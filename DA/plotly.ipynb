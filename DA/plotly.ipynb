{
 "cells": [
  {
   "attachments": {},
   "cell_type": "markdown",
   "metadata": {},
   "source": [
    "    Plotly\n",
    "Plotly is a powerful, interactive data visualization library that supports various types of plots, including:\n",
    "\n",
    "-Scatter plots: Visualize relationships between two variables.\n",
    "\n",
    "-Line charts: Show trends over time or other continuous variables.\n",
    "\n",
    "-Bar charts: Compare categorical data.\n",
    "\n",
    "-Pie charts: Display proportions of categories.\n",
    "\n",
    "-Histograms: Visualize the distribution of a single variable.\n",
    "\n",
    "-Box plots: Show the distribution of data, including median, quartiles, and outliers.\n",
    "\n",
    "-Heatmaps: Visualize two-dimensional data with color-coded values.\n",
    "\n",
    "-3D plots: Create three-dimensional visualizations for data with more than two dimensions."
   ]
  },
  {
   "cell_type": "code",
   "execution_count": null,
   "metadata": {},
   "outputs": [],
   "source": []
  }
 ],
 "metadata": {
  "language_info": {
   "name": "python"
  },
  "orig_nbformat": 4
 },
 "nbformat": 4,
 "nbformat_minor": 2
}

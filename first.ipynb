{
 "cells": [
  {
   "cell_type": "code",
   "execution_count": 8,
   "id": "6097b275-23e0-4d2c-94c9-2e85c13d1ec6",
   "metadata": {},
   "outputs": [
    {
     "name": "stdout",
     "output_type": "stream",
     "text": [
      "C:\\Users\\2165362\\AppData\\Local\\Programs\\Python\\Python311\\Lib\\site-packages\\numpy\n"
     ]
    }
   ],
   "source": [
    "import numpy as np\n",
    "for name in np.__path__:\n",
    "    print(name)"
   ]
  },
  {
   "cell_type": "code",
   "execution_count": null,
   "id": "f52c250e-e9f3-4512-936e-804a6653ec65",
   "metadata": {},
   "outputs": [],
   "source": []
  }
 ],
 "metadata": {
  "kernelspec": {
   "display_name": "Python 3 (ipykernel)",
   "language": "python",
   "name": "python3"
  },
  "language_info": {
   "codemirror_mode": {
    "name": "ipython",
    "version": 3
   },
   "file_extension": ".py",
   "mimetype": "text/x-python",
   "name": "python",
   "nbconvert_exporter": "python",
   "pygments_lexer": "ipython3",
   "version": "3.11.5"
  }
 },
 "nbformat": 4,
 "nbformat_minor": 5
}
